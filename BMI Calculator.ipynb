{
 "cells": [
  {
   "cell_type": "code",
   "execution_count": 2,
   "id": "4e72c29b",
   "metadata": {},
   "outputs": [
    {
     "name": "stdout",
     "output_type": "stream",
     "text": [
      "Enter your name:Mamcy\n"
     ]
    }
   ],
   "source": [
    "name= input(\"Enter your name:\")"
   ]
  },
  {
   "cell_type": "code",
   "execution_count": 3,
   "id": "40c7e10f",
   "metadata": {},
   "outputs": [
    {
     "name": "stdout",
     "output_type": "stream",
     "text": [
      "Enter you weight in Lbs: 110\n"
     ]
    }
   ],
   "source": [
    "weight= int(input(\"Enter you weight in Lbs: \"))"
   ]
  },
  {
   "cell_type": "code",
   "execution_count": 4,
   "id": "0164ee4a",
   "metadata": {},
   "outputs": [
    {
     "name": "stdout",
     "output_type": "stream",
     "text": [
      "Enter your height in inches: 63\n"
     ]
    }
   ],
   "source": [
    "height= int(input(\"Enter your height in inches: \"))\n"
   ]
  },
  {
   "cell_type": "code",
   "execution_count": 5,
   "id": "932c24e2",
   "metadata": {},
   "outputs": [],
   "source": [
    "BMI=(weight * 703)/(height * height)"
   ]
  },
  {
   "cell_type": "code",
   "execution_count": 6,
   "id": "2e46c2c0",
   "metadata": {},
   "outputs": [
    {
     "name": "stdout",
     "output_type": "stream",
     "text": [
      "19.48349710254472\n"
     ]
    }
   ],
   "source": [
    "print(BMI)"
   ]
  },
  {
   "cell_type": "code",
   "execution_count": null,
   "id": "a2a961f8",
   "metadata": {},
   "outputs": [],
   "source": [
    "Under 18.5\tUnderweight\tMinimal\n",
    "18.5 - 24.9\tNormal Weight\tMinimal\n",
    "25 - 29.9\tOverweight\tIncreased\n",
    "30 - 34.9\tObese\tHigh\n",
    "35 - 39.9\tSeverely Obese\tVery High\n",
    "40 and over\tMorbidly Obese\tExtremely High"
   ]
  },
  {
   "cell_type": "code",
   "execution_count": 8,
   "id": "02e2147f",
   "metadata": {},
   "outputs": [
    {
     "name": "stdout",
     "output_type": "stream",
     "text": [
      "Mamcy,You are normal weight\n"
     ]
    }
   ],
   "source": [
    "if BMI>0 :\n",
    "    if(BMI<18.5):\n",
    "        print(name +\",You are underweight\")\n",
    "    elif(BMI<=24.9):\n",
    "        print(name +\",You are normal weight\") \n",
    "    elif(BMI<=29.9):\n",
    "        print(name + \",You are overweight\")\n",
    "    elif(BMI<=34.9):\n",
    "        print(name +\",You are obese\")\n",
    "    elif(BMI<=39.9):\n",
    "        print(name +\",You are serverly obese\")\n",
    "    else:\n",
    "        print(name +\",You are morbidly obese\")"
   ]
  }
 ],
 "metadata": {
  "kernelspec": {
   "display_name": "Python 3 (ipykernel)",
   "language": "python",
   "name": "python3"
  },
  "language_info": {
   "codemirror_mode": {
    "name": "ipython",
    "version": 3
   },
   "file_extension": ".py",
   "mimetype": "text/x-python",
   "name": "python",
   "nbconvert_exporter": "python",
   "pygments_lexer": "ipython3",
   "version": "3.9.7"
  }
 },
 "nbformat": 4,
 "nbformat_minor": 5
}
